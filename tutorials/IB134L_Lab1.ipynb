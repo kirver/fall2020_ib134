{
 "cells": [
  {
   "cell_type": "markdown",
   "metadata": {},
   "source": [
    "# Python Basics I\n",
    "\n",
    "## Printing and Commenting"
   ]
  },
  {
   "cell_type": "markdown",
   "metadata": {},
   "source": [
    "# Q1"
   ]
  },
  {
   "cell_type": "code",
   "execution_count": 1,
   "metadata": {
    "code_folding": []
   },
   "outputs": [
    {
     "name": "stdout",
     "output_type": "stream",
     "text": [
      "my favorite animal is #####\n"
     ]
    }
   ],
   "source": [
    "#Your first python program!\n",
    "\n",
    "\"\"\"\n",
    "this is your first python program!\n",
    "it doesn't do much... \n",
    "\"\"\"\n",
    "\n",
    "\"\"\"\n",
    "The print function can take in multiple arguments and will\n",
    "concatenate the string separated by spaces\n",
    "\"\"\"\n",
    "\n",
    "print(\"my favorite animal is XXXX\")"
   ]
  },
  {
   "cell_type": "markdown",
   "metadata": {},
   "source": [
    "# Q2"
   ]
  },
  {
   "cell_type": "code",
   "execution_count": 2,
   "metadata": {
    "code_folding": []
   },
   "outputs": [
    {
     "name": "stdout",
     "output_type": "stream",
     "text": [
      "lizard\n",
      "#doggy\n"
     ]
    }
   ],
   "source": [
    "## code can be commented either by prefixing a line with a #\n",
    "\n",
    "\"\"\"\n",
    "or by inserting multiple lines of text \n",
    "in between triple quotation blocks like this\n",
    "\"\"\"\n",
    "\n",
    "print(\"lizard\") #turtle\n",
    "\n",
    "#print(\"hummingbird\")\n",
    "\n",
    "print(\"#doggy\")"
   ]
  },
  {
   "cell_type": "markdown",
   "metadata": {},
   "source": [
    "## Simple math, variables, and logic"
   ]
  },
  {
   "cell_type": "code",
   "execution_count": 14,
   "metadata": {
    "code_folding": []
   },
   "outputs": [
    {
     "name": "stdout",
     "output_type": "stream",
     "text": [
      "13*2 = 26\n",
      "13+2 = 15\n",
      "30/2 = 15.0\n"
     ]
    }
   ],
   "source": [
    "# 1 simple math and variables\n",
    "\"\"\"\n",
    "Math is pretty straightforward in python3\n",
    "\n",
    "we can use all the normal symbols\n",
    "\n",
    "+: plus\n",
    "-: minus\n",
    "/: divide\n",
    "*: times\n",
    "%: modulo\n",
    "<: less than\n",
    ">: greater than\n",
    "<=: less than or equal to\n",
    ">=: greater than or equal to\n",
    "\n",
    "==: equivalence\n",
    "!=: non-equivalence\n",
    "\n",
    "https://docs.python.org/3/library/stdtypes.html#numeric-types-int-float-complex\n",
    "\n",
    "\"\"\"\n",
    "print(\"13*2 =\", 13*2)\n",
    "print(\"13+2 =\", 13+2)\n",
    "print(\"30/2 =\", 30/2)\n"
   ]
  },
  {
   "cell_type": "markdown",
   "metadata": {},
   "source": [
    "# Q3"
   ]
  },
  {
   "cell_type": "code",
   "execution_count": 5,
   "metadata": {
    "code_folding": []
   },
   "outputs": [
    {
     "name": "stdout",
     "output_type": "stream",
     "text": [
      "<class 'int'>\n",
      "<class 'float'>\n",
      "True\n"
     ]
    }
   ],
   "source": [
    "\"\"\"\n",
    "integers and floats are two different kinds of numerical data\n",
    "an integer (or int) is a number without a decimal point, e.g. 69, 9000\n",
    "A float is a floating-pt number, which means it has a decimal place.\n",
    "Floats are used when more precision is needed.\n",
    "\n",
    "\n",
    "In order to identify the type of numerical data,\n",
    "you can use the function type().\n",
    "You can combine the print() and type() function to print out\n",
    "TYPES of data. Ready?\n",
    "\"\"\"\n",
    "\n",
    "print(type(13+2)) #A\n",
    "print(type(30/2)) #B\n",
    "print((30/2)==(13+2)) #C"
   ]
  },
  {
   "cell_type": "code",
   "execution_count": 6,
   "metadata": {
    "code_folding": []
   },
   "outputs": [
    {
     "name": "stdout",
     "output_type": "stream",
     "text": [
      "1 0 1 0\n"
     ]
    }
   ],
   "source": [
    "## the modulo operator\n",
    "\"\"\"\n",
    "# the '%' modulo operator gives the remainder \n",
    "e.g. 10 % 4 = 2 , the remainder of 10/4 is 2 \n",
    "useful for finding even / odd numbers or counting by \"k\"\n",
    "\"\"\"\n",
    "\n",
    "print(1%2, 2%2, 3%2, 4%2) \n"
   ]
  },
  {
   "cell_type": "code",
   "execution_count": 7,
   "metadata": {
    "code_folding": []
   },
   "outputs": [
    {
     "name": "stdout",
     "output_type": "stream",
     "text": [
      "7.5\n"
     ]
    }
   ],
   "source": [
    "## Variables\n",
    "\"\"\"\n",
    "variables can be assigned with the \"=\" operator\n",
    "\"\"\"\n",
    "\n",
    "x=5\n",
    "y=3\n",
    "z=x*y/2\n",
    "print(z)"
   ]
  },
  {
   "cell_type": "code",
   "execution_count": 8,
   "metadata": {
    "code_folding": []
   },
   "outputs": [
    {
     "name": "stdout",
     "output_type": "stream",
     "text": [
      "2\n",
      "3\n",
      "4\n"
     ]
    }
   ],
   "source": [
    "## The += operator\n",
    "\n",
    "\"\"\"\n",
    "The operation of adding incrementing a number by some fixed value\n",
    "e.g. by 1, is so commonn that there is a shorthand for it\n",
    "\n",
    "+=x : increment by x\n",
    "\"\"\"\n",
    "\n",
    "x=2\n",
    "print(x)\n",
    "x=x+1\n",
    "print(x)\n",
    "x+=1\n",
    "print(x)"
   ]
  },
  {
   "cell_type": "code",
   "execution_count": null,
   "metadata": {},
   "outputs": [],
   "source": []
  },
  {
   "cell_type": "code",
   "execution_count": 9,
   "metadata": {
    "code_folding": []
   },
   "outputs": [
    {
     "name": "stdout",
     "output_type": "stream",
     "text": [
      "False\n",
      "True\n",
      "False\n"
     ]
    }
   ],
   "source": [
    "## Assignment versus equivalence\n",
    "\"\"\"\n",
    "it is CRITICAL to understand the difference between \"=\" and \"==\"\n",
    "\"\"\"\n",
    "\n",
    "x=10\n",
    "print(x==5)\n",
    "\n",
    "#print(x=5) This will fail!\n",
    "\n",
    "x=5\n",
    "print(x==5)\n",
    "print(x!=5)\n",
    "\n",
    "\"\"\"\"The data type output by the above code is known as a BOOLEAN\n",
    "data type, which is either True or False!\"\"\""
   ]
  },
  {
   "cell_type": "markdown",
   "metadata": {},
   "source": [
    "# Q4. What is the difference between \"=\" and \"==\"? Write the answer in less than 3 sentences. "
   ]
  },
  {
   "cell_type": "markdown",
   "metadata": {},
   "source": [
    "## Strings"
   ]
  },
  {
   "cell_type": "markdown",
   "metadata": {},
   "source": [
    "# Q5. "
   ]
  },
  {
   "cell_type": "code",
   "execution_count": 6,
   "metadata": {
    "code_folding": []
   },
   "outputs": [
    {
     "name": "stdout",
     "output_type": "stream",
     "text": [
      "IB134L\n",
      "6\n",
      "<class 'str'>\n",
      "<class 'str'>\n"
     ]
    },
    {
     "data": {
      "text/plain": [
       "str"
      ]
     },
     "execution_count": 6,
     "metadata": {},
     "output_type": "execute_result"
    }
   ],
   "source": [
    "## Strings\n",
    "#A string in python is a sequence of characters\n",
    "\n",
    "x = \"IB134L\"\n",
    "print(x)\n",
    "print(len(x))  # String length; prints \"5\"\n",
    "\n",
    "print(type(x))\n",
    "print(type(\"ib134L\"))\n",
    "type(\"ib134l\")"
   ]
  },
  {
   "cell_type": "markdown",
   "metadata": {},
   "source": [
    "# Q6."
   ]
  },
  {
   "cell_type": "code",
   "execution_count": 7,
   "metadata": {
    "code_folding": []
   },
   "outputs": [
    {
     "name": "stdout",
     "output_type": "stream",
     "text": [
      "IB201 is my number 1 class!\n"
     ]
    }
   ],
   "source": [
    "## String formatting\n",
    "\n",
    "x=\"IB134L\"\n",
    "IB134_ranking = 1\n",
    "\n",
    "complex_string = \"{v1} is my number {v2} class!\".format(v1=x, v2=IB201_ranking)\n",
    "\n",
    "print(complex_string)\n",
    "\n"
   ]
  },
  {
   "cell_type": "code",
   "execution_count": 16,
   "metadata": {
    "code_folding": [],
    "scrolled": true
   },
   "outputs": [
    {
     "name": "stdout",
     "output_type": "stream",
     "text": [
      "HELLO\n",
      "he(l)(l)o\n",
      "--TEXT\n",
      "TEXT--\n",
      "TEXT\n",
      "8\n"
     ]
    }
   ],
   "source": [
    "## String operations\n",
    "\"\"\"\n",
    "there are all kinds of operations that can be \n",
    "run on strings that are super helpful\n",
    "\n",
    "https://docs.python.org/3/library/stdtypes.html#string-methods\n",
    "\"\"\"\n",
    "\n",
    "s = \"hello\"\n",
    "print(s.upper())  # Convert a string to uppercase; prints \"HELLO\"\n",
    "print(s.replace('l', '(l)'))  # Replace all instances of one substring with another;\n",
    "print('--TEXT--'.rstrip(\"-\"))  # Strip trailing characters\n",
    "print('--TEXT--'.lstrip(\"-\"))  # Strip leading characters\n",
    "print('--TEXT--'.strip(\"-\"))  # Strip leading and trailing characters\n",
    "print(len('--TEXT--'))  # what is the length of this string?"
   ]
  },
  {
   "cell_type": "code",
   "execution_count": 31,
   "metadata": {
    "code_folding": []
   },
   "outputs": [
    {
     "name": "stdout",
     "output_type": "stream",
     "text": [
      "8.3\n"
     ]
    }
   ],
   "source": [
    "## converting strings to numbers\n",
    "\n",
    "\"\"\"\n",
    "often when we are reading files numbers are encoded as\n",
    "strings. To use these numbers as numbers we need to\n",
    "convert them to floats or integers.\n",
    "\"\"\"\n",
    "\n",
    "string_number = \"5.3\"\n",
    "\n",
    "#print(string_number + 3) # this will fail - you cannot add a string to an integer\n",
    "\n",
    "#print(int(string_number) + 3) # this will fail - 5.3 is not an integer!\n",
    "\n",
    "print(float(string_number) + 3)\n"
   ]
  },
  {
   "cell_type": "markdown",
   "metadata": {},
   "source": [
    "# Containers: lists!"
   ]
  },
  {
   "cell_type": "code",
   "execution_count": 19,
   "metadata": {
    "code_folding": []
   },
   "outputs": [
    {
     "name": "stdout",
     "output_type": "stream",
     "text": [
      "[9, 5, 12]\n",
      "[9, 5, 12, 201]\n",
      "201\n",
      "[9, 5, 12]\n",
      "[9, 5, 12, 'asdf']\n"
     ]
    }
   ],
   "source": [
    "#1.4 Containers - lists\n",
    "\"\"\"\n",
    "lists are ordered arrays of elements\n",
    "in some languages this type is called an array\n",
    "\"\"\"\n",
    "\n",
    "xs = [9, 5, 12] # Create a list\n",
    "print(xs)\n",
    "\n",
    "xs.append(201)  # add an element to the end of the list\n",
    "print(xs)\n",
    "\n",
    "element = xs.pop() # pop an element off the end of a list returning it\n",
    "print(element)\n",
    "print(xs)\n",
    "\n",
    "xs.append(\"asdf\")\n",
    "print(xs)"
   ]
  },
  {
   "cell_type": "code",
   "execution_count": 20,
   "metadata": {
    "code_folding": []
   },
   "outputs": [
    {
     "name": "stdout",
     "output_type": "stream",
     "text": [
      "7\n",
      "9\n",
      "9\n"
     ]
    }
   ],
   "source": [
    "## list subsetting\n",
    "\n",
    "xs = [5,7,1,9]\n",
    "print(xs[1])   # indexing starts at 0! (UNLIKE R!!!)\n",
    "\n",
    "print(xs[-1])  # Negative indices count back from the end of a list\n",
    "print(xs[3])\n"
   ]
  },
  {
   "cell_type": "code",
   "execution_count": 21,
   "metadata": {
    "code_folding": []
   },
   "outputs": [
    {
     "name": "stdout",
     "output_type": "stream",
     "text": [
      "[1, 9]\n",
      "[1, 9, 201]\n",
      "[5, 7]\n",
      "[5, 7, 1, 9]\n",
      "[5, 7, 1]\n"
     ]
    }
   ],
   "source": [
    "## list slicing\n",
    "\n",
    "xs = [5, 7, 1, 9, 201]\n",
    "\n",
    "print(xs[2:4]) # Get a slice from index 2 to 4 - exclusive! ie, includes elements 2 and 3, not 4\n",
    "print(xs[2:])  # Get a slice from index 2 to the end; \n",
    "print(xs[:2])  # Get a slice from the start to index 2, doesn't include element 2\n",
    "\n",
    "print(xs[:-1]) # negative slices, all but last element\n",
    "print(xs[:-2]) # negative slices, all but last two elements\n"
   ]
  },
  {
   "cell_type": "code",
   "execution_count": 22,
   "metadata": {
    "code_folding": []
   },
   "outputs": [
    {
     "name": "stdout",
     "output_type": "stream",
     "text": [
      "[5, 7, 1, 9, 201]\n",
      "[5, 1, 201]\n",
      "[7, 9]\n",
      "[201, 9, 1, 7, 5]\n"
     ]
    }
   ],
   "source": [
    "## super slicing\n",
    "\"\"\"\n",
    "    list[start:end:step]\n",
    "\"\"\"\n",
    "\n",
    "xs = [5, 7, 1, 9, 201]\n",
    "\n",
    "\n",
    "print(xs[::])   #the whole list\n",
    "print(xs[::2])  #every second element\n",
    "print(xs[1::2]) #every second element starting at element 1\n",
    "print(xs[::-1]) #reverse the list"
   ]
  },
  {
   "cell_type": "code",
   "execution_count": 23,
   "metadata": {
    "code_folding": []
   },
   "outputs": [
    {
     "name": "stdout",
     "output_type": "stream",
     "text": [
      "False\n",
      "True\n",
      "3\n",
      "1\n",
      "201\n"
     ]
    }
   ],
   "source": [
    "## list operations\n",
    "\n",
    "xs = [5, 7, 1, 9, 201]\n",
    "\n",
    "print(19 in xs)       #is 19 in the list?\n",
    "print(9 in xs)        #is 9 in the  list?  \n",
    "print(xs.index(9))    #where is 9?\n",
    "\n",
    "print(min(xs))        #the minimum element\n",
    "print(max(xs))        #the maximum element\n"
   ]
  },
  {
   "cell_type": "code",
   "execution_count": 26,
   "metadata": {
    "code_folding": []
   },
   "outputs": [
    {
     "name": "stdout",
     "output_type": "stream",
     "text": [
      "[1, 2, 3, 4, 5, 6, 3, 1, 5]\n",
      "[0, 1, 2, 3, 4, 5, 6, 7, 8, 9, 10, 11, 12, 13, 14, 15, 16, 17, 18, 19]\n"
     ]
    }
   ],
   "source": [
    "## list concatenation\n",
    "\n",
    "x1 = [1,2,3]\n",
    "x2 = [4, 5, 6]\n",
    "\n",
    "joined_list = x1 + x2 + [3,1,5]\n",
    "\n",
    "print(joined_list)\n",
    "\n",
    "x3 = list(range(20))\n",
    "print(x3)\n"
   ]
  },
  {
   "cell_type": "code",
   "execution_count": 27,
   "metadata": {},
   "outputs": [
    {
     "name": "stdout",
     "output_type": "stream",
     "text": [
      "[[1, 2, 3], [4, 5, 6]]\n"
     ]
    }
   ],
   "source": [
    "x1 = [1,2,3]\n",
    "x2 = [4, 5, 6]\n",
    "\n",
    "print([x1,x2])"
   ]
  },
  {
   "cell_type": "code",
   "execution_count": 28,
   "metadata": {
    "code_folding": []
   },
   "outputs": [
    {
     "name": "stdout",
     "output_type": "stream",
     "text": [
      "['Debora', 'Miguel', 'Stacy', 'Xu']\n"
     ]
    }
   ],
   "source": [
    "## splitting strings into lists\n",
    "\n",
    "student_names = \"Debora,Miguel,Stacy,Xu\"\n",
    "list_of_names = student_names.split(\",\")\n",
    "print(list_of_names)"
   ]
  },
  {
   "cell_type": "markdown",
   "metadata": {},
   "source": [
    "# On to the Pokemon data set!\n",
    "##For the rest of the exercises, you will be creating and typing in new cells!"
   ]
  },
  {
   "cell_type": "code",
   "execution_count": 1,
   "metadata": {},
   "outputs": [],
   "source": [
    "import pandas as pd\n",
    "import matplotlib.pyplot as plt\n",
    "import seaborn as sns"
   ]
  },
  {
   "cell_type": "code",
   "execution_count": 4,
   "metadata": {},
   "outputs": [],
   "source": [
    "pokemon = pd.read_csv(\"Pokemon.csv\")"
   ]
  },
  {
   "cell_type": "code",
   "execution_count": 5,
   "metadata": {},
   "outputs": [
    {
     "data": {
      "text/plain": [
       "#              int64\n",
       "Name          object\n",
       "Type 1        object\n",
       "Type 2        object\n",
       "Total          int64\n",
       "HP             int64\n",
       "Attack         int64\n",
       "Defense        int64\n",
       "Sp. Atk        int64\n",
       "Sp. Def        int64\n",
       "Speed          int64\n",
       "Generation     int64\n",
       "Legendary       bool\n",
       "dtype: object"
      ]
     },
     "execution_count": 5,
     "metadata": {},
     "output_type": "execute_result"
    }
   ],
   "source": [
    "pokemon.dtypes"
   ]
  },
  {
   "cell_type": "code",
   "execution_count": 6,
   "metadata": {},
   "outputs": [],
   "source": [
    "import matplotlib.pyplot as plt\n",
    "%matplotlib inline"
   ]
  },
  {
   "cell_type": "code",
   "execution_count": 8,
   "metadata": {},
   "outputs": [],
   "source": [
    "pokemon.columns = ['no' , 'name', 'type1', 'type2', 'total', 'hp', 'attack', 'defense', 'spatk' , 'spdef' ,'speed', 'gen', 'legend']\n"
   ]
  },
  {
   "cell_type": "code",
   "execution_count": 9,
   "metadata": {},
   "outputs": [
    {
     "data": {
      "text/plain": [
       "[<matplotlib.lines.Line2D at 0x7f10c15a7b80>]"
      ]
     },
     "execution_count": 9,
     "metadata": {},
     "output_type": "execute_result"
    },
    {
     "data": {
      "image/png": "[encoded data removed]",
      "text/plain": [
       "<Figure size 432x288 with 1 Axes>"
      ]
     },
     "metadata": {
      "needs_background": "light"
     },
     "output_type": "display_data"
    }
   ],
   "source": [
    "x=pokemon.total\n",
    "y=pokemon.hp\n",
    "plt.plot(x,y,'o',color='green')"
   ]
  },
  {
   "cell_type": "code",
   "execution_count": 10,
   "metadata": {},
   "outputs": [
    {
     "data": {
      "text/plain": [
       "[<matplotlib.lines.Line2D at 0x7f10bf48dbe0>]"
      ]
     },
     "execution_count": 10,
     "metadata": {},
     "output_type": "execute_result"
    },
    {
     "data": {
      "image/png": "[encoded data removed]",
      "text/plain": [
       "<Figure size 432x288 with 1 Axes>"
      ]
     },
     "metadata": {
      "needs_background": "light"
     },
     "output_type": "display_data"
    }
   ],
   "source": [
    "plt.plot(x,y,'+',color='red')"
   ]
  },
  {
   "cell_type": "code",
   "execution_count": 12,
   "metadata": {},
   "outputs": [
    {
     "data": {
      "text/plain": [
       "Text(0.5, 1.0, 'relationship between pokestats and HP')"
      ]
     },
     "execution_count": 12,
     "metadata": {},
     "output_type": "execute_result"
    },
    {
     "data": {
      "image/png": "[encoded data removed]",
      "text/plain": [
       "<Figure size 432x288 with 1 Axes>"
      ]
     },
     "metadata": {
      "needs_background": "light"
     },
     "output_type": "display_data"
    }
   ],
   "source": [
    "plt.plot(x,\n",
    "        y,\n",
    "         'd',\n",
    "        color='red')\n",
    "plt.xlabel('Total Stats')\n",
    "plt.ylabel('HP')\n",
    "plt.title('relationship between pokestats and HP')"
   ]
  },
  {
   "cell_type": "code",
   "execution_count": 16,
   "metadata": {},
   "outputs": [
    {
     "data": {
      "text/plain": [
       "[<matplotlib.lines.Line2D at 0x7f10bf32e6a0>]"
      ]
     },
     "execution_count": 16,
     "metadata": {},
     "output_type": "execute_result"
    },
    {
     "data": {
      "image/png": "[encoded data removed]",
      "text/plain": [
       "<Figure size 432x288 with 1 Axes>"
      ]
     },
     "metadata": {
      "needs_background": "light"
     },
     "output_type": "display_data"
    }
   ],
   "source": [
    "def plot(x,\n",
    "        y,\n",
    "        ax,\n",
    "        title,\n",
    "        y_label):\n",
    "    ax.set_title(title)\n",
    "    ax.set_ylabel(y_label)\n",
    "    ax.plot(x,y)\n",
    "    ax.margins(x=0,y=0)\n",
    "    \n",
    "plt.plot(x,y,'o', color='black')"
   ]
  },
  {
   "cell_type": "code",
   "execution_count": 18,
   "metadata": {},
   "outputs": [
    {
     "data": {
      "text/plain": [
       "[<matplotlib.lines.Line2D at 0x7f10bf2e4550>]"
      ]
     },
     "execution_count": 18,
     "metadata": {},
     "output_type": "execute_result"
    },
    {
     "data": {
      "image/png": "[encoded data removed]",
      "text/plain": [
       "<Figure size 432x288 with 1 Axes>"
      ]
     },
     "metadata": {
      "needs_background": "light"
     },
     "output_type": "display_data"
    }
   ],
   "source": [
    "x=pokemon.speed\n",
    "y=pokemon.total\n",
    "def plot(x,\n",
    "        y,\n",
    "        ax,\n",
    "        title,\n",
    "        y_label):\n",
    "    ax.set_title(title)\n",
    "    ax.set_ylabel(y_label)\n",
    "    ax.plot(x,y)\n",
    "    ax.margins(x=0,y=0)\n",
    "    \n",
    "plt.plot(x,y,'o', color='black')"
   ]
  }
 ],
 "metadata": {
  "kernelspec": {
   "display_name": "Python 3",
   "language": "python",
   "name": "python3"
  },
  "language_info": {
   "codemirror_mode": {
    "name": "ipython",
    "version": 3
   },
   "file_extension": ".py",
   "mimetype": "text/x-python",
   "name": "python",
   "nbconvert_exporter": "python",
   "pygments_lexer": "ipython3",
   "version": "3.8.5"
  }
 },
 "nbformat": 4,
 "nbformat_minor": 4
}
